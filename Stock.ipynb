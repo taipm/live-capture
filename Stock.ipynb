{
 "cells": [
  {
   "cell_type": "code",
   "execution_count": 1,
   "metadata": {},
   "outputs": [
    {
     "name": "stdout",
     "output_type": "stream",
     "text": [
      "   index        Date Stock   +/-     %  Close      Volume   Open   High  \\\n",
      "0    512  2023-01-11   VND  0.35  2.43  14.75  23685500.0  14.60  15.20   \n",
      "1    511  2023-01-10   VND  0.00  0.00  14.40  15185200.0  14.40  14.70   \n",
      "2    510  2023-01-09   VND  0.10  0.70  14.40  13304800.0  14.55  14.65   \n",
      "3    509  2023-01-06   VND -0.30 -2.05  14.30  20985300.0  14.40  14.90   \n",
      "4    508  2023-01-05   VND  0.25  1.74  14.60  16800700.0  14.50  14.75   \n",
      "\n",
      "     Low     NN Mua    NN Ban  GDTT         Money         NN         M(NN)  \\\n",
      "0  14.50  1622900.0  140305.0   0.0  3.493611e+11  1482595.0  3.511600e+18   \n",
      "1  14.05   967420.0  571400.0   0.0  2.186669e+11   396020.0  6.013643e+17   \n",
      "2  14.30  1408400.0  250500.0   0.0  1.915891e+11  1157900.0  1.540563e+18   \n",
      "3  14.30   922052.0  457400.0   0.0  3.000898e+11   464652.0  9.750862e+17   \n",
      "4  14.10  1067500.0  165220.0   0.0  2.452902e+11   902280.0  1.515894e+18   \n",
      "\n",
      "   Oscillation  Oscillation-Down  Oscillation-Up  \n",
      "0     4.827586         -0.684932        4.109589  \n",
      "1     4.626335         -2.430556        2.083333  \n",
      "2     2.447552         -1.718213        0.687285  \n",
      "3     4.195804         -0.694444        3.472222  \n",
      "4     4.609929         -2.758621        1.724138  \n",
      "502\n"
     ]
    }
   ],
   "source": [
    "import db\n",
    "\n",
    "data = db.GetStockData(symbol='VND')\n",
    "length = len(data)\n",
    "print(data.head())\n",
    "print(length)"
   ]
  },
  {
   "cell_type": "code",
   "execution_count": null,
   "metadata": {},
   "outputs": [],
   "source": [
    "import matplotlib as plt\n",
    "class DrawStock:\n",
    "    def __init__(self, symbol, df) -> None:\n",
    "        self.symbol = symbol\n",
    "        self.df = df\n",
    "    \n",
    "    def draw_prices(self):\n",
    "        pass\n",
    "    def draw_candles(self):\n",
    "        pass\n",
    "\n",
    "    def draw_volume(self):\n",
    "        pass"
   ]
  },
  {
   "cell_type": "code",
   "execution_count": null,
   "metadata": {},
   "outputs": [],
   "source": [
    "import pandas as pd\n",
    "class Trend:\n",
    "    def __init__(self) -> None:\n",
    "        pass\n",
    "\n",
    "class Forecast:\n",
    "    def __init__(self, symbol:str, df:pd.DataFrame) -> None:\n",
    "        self.symbol = symbol.upper()\n",
    "        self.df = df\n",
    "        self.forecasts = []\n",
    "\n",
    "\n",
    "    def addForecast(self, index, status:bool):\n",
    "        self.forecasts.append[[index,status]]\n",
    "\n",
    "    def scanForecast(self):\n",
    "        pass\n",
    "\n",
    "    def draw(self):\n",
    "        pass"
   ]
  },
  {
   "cell_type": "code",
   "execution_count": 12,
   "metadata": {},
   "outputs": [
    {
     "name": "stdout",
     "output_type": "stream",
     "text": [
      "Head:\n",
      "      price  volume     cp  rcp   a       ba       sa     hl    pcp      time\n",
      "0  51900.0     300  200.0  0.0  BU  34900.0  45600.0  False  100.0  11:19:39\n",
      "1  51800.0     300  100.0  0.0  SD  34600.0  45600.0  False    0.0  11:17:55\n",
      "2  51800.0     300  100.0  0.0  SD  34600.0  45300.0  False -100.0  11:17:09\n",
      "3  51900.0     200  200.0  0.0  SD  34600.0  45000.0  False  100.0  11:16:16\n",
      "4  51800.0     500  100.0  0.0  SD  34600.0  44800.0  False    0.0  11:04:14\n",
      "52,217.39 : 51,947.14 : 1.01\n"
     ]
    }
   ],
   "source": [
    "from vnstock import *\n",
    "df =  stock_intraday_data(symbol='IDC', \n",
    "                            page_num=0, \n",
    "                            page_size=5000)\n",
    "# Liệt kê các đặc trưng cơ bản của DataFrame\n",
    "# print('Shape:', df.shape)\n",
    "# print('Columns:', df.columns)\n",
    "# print('Index:', df.index)\n",
    "# print('Data Types:', df.dtypes)\n",
    "print('Head:\\n', df.head())\n",
    "# print('Tail:\\n', df.tail())\n",
    "# print('Describe:\\n', df.describe())\n",
    "# print('Info:\\n', df.info())\n",
    "\n",
    "import pandas as pd\n",
    "\n",
    "# Đọc dữ liệu vào DataFrame\n",
    "#df = pd.DataFrame(df)\n",
    "\n",
    "# Tạo một cột mới là 'buy_or_sell' với giá trị 'buy' nếu a='BU', ngược lại là 'sell'\n",
    "df['buy_or_sell'] = df['a'].apply(lambda x: 'buy' if x=='BU' else 'sell')\n",
    "\n",
    "# Tính trung bình giá mua\n",
    "buy_avg_price = df[df['buy_or_sell'] == 'buy']['price'].mean()\n",
    "\n",
    "# Tính trung bình giá bán\n",
    "sell_avg_price = df[df['buy_or_sell'] == 'sell']['price'].mean()\n",
    "\n",
    "# Tính tỷ lệ giữa trung bình giá mua và trung bình giá bán\n",
    "buy_sell_ratio = buy_avg_price / sell_avg_price\n",
    "\n",
    "print(f'{buy_avg_price:,.2f} : {sell_avg_price:,.2f} : {buy_sell_ratio:,.2f}')\n"
   ]
  }
 ],
 "metadata": {
  "kernelspec": {
   "display_name": "Python 3",
   "language": "python",
   "name": "python3"
  },
  "language_info": {
   "codemirror_mode": {
    "name": "ipython",
    "version": 3
   },
   "file_extension": ".py",
   "mimetype": "text/x-python",
   "name": "python",
   "nbconvert_exporter": "python",
   "pygments_lexer": "ipython3",
   "version": "3.10.7"
  },
  "orig_nbformat": 4,
  "vscode": {
   "interpreter": {
    "hash": "aee8b7b246df8f9039afb4144a1f6fd8d2ca17a180786b69acc140d282b71a49"
   }
  }
 },
 "nbformat": 4,
 "nbformat_minor": 2
}
